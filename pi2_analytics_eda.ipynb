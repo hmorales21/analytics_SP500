{
 "cells": [
  {
   "cell_type": "markdown",
   "metadata": {},
   "source": [
    "<img src='./assets/pi2_eda_header.png'>"
   ]
  },
  {
   "cell_type": "code",
   "execution_count": 1,
   "metadata": {},
   "outputs": [],
   "source": [
    "import pandas as pd\n",
    "import yfinance as yf\n",
    "import matplotlib.pyplot as plt\n",
    "import matplotlib.dates as mdates\n",
    "import seaborn as sns\n",
    "from datetime import datetime\n",
    "#from mpl_finance import candlestick_ohlc\n"
   ]
  },
  {
   "cell_type": "markdown",
   "metadata": {},
   "source": [
    "Una vez descargados los archivos de datos, vamos a realizar una pequeña exploración para ver como están constituidos y que podemos describir de ellos"
   ]
  },
  {
   "cell_type": "code",
   "execution_count": 2,
   "metadata": {},
   "outputs": [],
   "source": [
    "# Recordemos que los datos fueron descargados a través de la API de yfinance, con el módulo \n",
    "#pi2_analytics_etl.py\n",
    "spx_data = pd.read_csv('./data/spx_data.csv', index_col='Date')\n"
   ]
  },
  {
   "cell_type": "code",
   "execution_count": 4,
   "metadata": {},
   "outputs": [
    {
     "data": {
      "text/html": [
       "<div>\n",
       "<style scoped>\n",
       "    .dataframe tbody tr th:only-of-type {\n",
       "        vertical-align: middle;\n",
       "    }\n",
       "\n",
       "    .dataframe tbody tr th {\n",
       "        vertical-align: top;\n",
       "    }\n",
       "\n",
       "    .dataframe thead th {\n",
       "        text-align: right;\n",
       "    }\n",
       "</style>\n",
       "<table border=\"1\" class=\"dataframe\">\n",
       "  <thead>\n",
       "    <tr style=\"text-align: right;\">\n",
       "      <th></th>\n",
       "      <th>Open</th>\n",
       "      <th>High</th>\n",
       "      <th>Low</th>\n",
       "      <th>Close</th>\n",
       "      <th>Adj Close</th>\n",
       "      <th>Volume</th>\n",
       "    </tr>\n",
       "    <tr>\n",
       "      <th>Date</th>\n",
       "      <th></th>\n",
       "      <th></th>\n",
       "      <th></th>\n",
       "      <th></th>\n",
       "      <th></th>\n",
       "      <th></th>\n",
       "    </tr>\n",
       "  </thead>\n",
       "  <tbody>\n",
       "    <tr>\n",
       "      <th>2000-01-03</th>\n",
       "      <td>1469.250000</td>\n",
       "      <td>1478.000000</td>\n",
       "      <td>1438.359985</td>\n",
       "      <td>1455.219971</td>\n",
       "      <td>1455.219971</td>\n",
       "      <td>931800000</td>\n",
       "    </tr>\n",
       "    <tr>\n",
       "      <th>2000-01-04</th>\n",
       "      <td>1455.219971</td>\n",
       "      <td>1455.219971</td>\n",
       "      <td>1397.430054</td>\n",
       "      <td>1399.420044</td>\n",
       "      <td>1399.420044</td>\n",
       "      <td>1009000000</td>\n",
       "    </tr>\n",
       "    <tr>\n",
       "      <th>2000-01-05</th>\n",
       "      <td>1399.420044</td>\n",
       "      <td>1413.270020</td>\n",
       "      <td>1377.680054</td>\n",
       "      <td>1402.109985</td>\n",
       "      <td>1402.109985</td>\n",
       "      <td>1085500000</td>\n",
       "    </tr>\n",
       "    <tr>\n",
       "      <th>2000-01-06</th>\n",
       "      <td>1402.109985</td>\n",
       "      <td>1411.900024</td>\n",
       "      <td>1392.099976</td>\n",
       "      <td>1403.449951</td>\n",
       "      <td>1403.449951</td>\n",
       "      <td>1092300000</td>\n",
       "    </tr>\n",
       "    <tr>\n",
       "      <th>2000-01-07</th>\n",
       "      <td>1403.449951</td>\n",
       "      <td>1441.469971</td>\n",
       "      <td>1400.729980</td>\n",
       "      <td>1441.469971</td>\n",
       "      <td>1441.469971</td>\n",
       "      <td>1225200000</td>\n",
       "    </tr>\n",
       "  </tbody>\n",
       "</table>\n",
       "</div>"
      ],
      "text/plain": [
       "                   Open         High          Low        Close    Adj Close  \\\n",
       "Date                                                                          \n",
       "2000-01-03  1469.250000  1478.000000  1438.359985  1455.219971  1455.219971   \n",
       "2000-01-04  1455.219971  1455.219971  1397.430054  1399.420044  1399.420044   \n",
       "2000-01-05  1399.420044  1413.270020  1377.680054  1402.109985  1402.109985   \n",
       "2000-01-06  1402.109985  1411.900024  1392.099976  1403.449951  1403.449951   \n",
       "2000-01-07  1403.449951  1441.469971  1400.729980  1441.469971  1441.469971   \n",
       "\n",
       "                Volume  \n",
       "Date                    \n",
       "2000-01-03   931800000  \n",
       "2000-01-04  1009000000  \n",
       "2000-01-05  1085500000  \n",
       "2000-01-06  1092300000  \n",
       "2000-01-07  1225200000  "
      ]
     },
     "execution_count": 4,
     "metadata": {},
     "output_type": "execute_result"
    }
   ],
   "source": [
    "#visualicemos que traen los datos\n",
    "spx_data.head()"
   ]
  },
  {
   "cell_type": "code",
   "execution_count": 7,
   "metadata": {},
   "outputs": [
    {
     "data": {
      "text/plain": [
       "Open         float64\n",
       "High         float64\n",
       "Low          float64\n",
       "Close        float64\n",
       "Adj Close    float64\n",
       "Volume         int64\n",
       "dtype: object"
      ]
     },
     "execution_count": 7,
     "metadata": {},
     "output_type": "execute_result"
    }
   ],
   "source": [
    "#De qué tipo son los datos?\n",
    "spx_data.dtypes"
   ]
  },
  {
   "cell_type": "markdown",
   "metadata": {},
   "source": [
    "Hasta aquí, podemos ver que el archivo contiene respecto del indicador S&P500(SPX), los siguientes valores para cada día registrado: \n",
    "Open    :   El valor con el que abre el indicador\n",
    "High    :   El valor mas alto registrado en ese día\n",
    "Low     :   El valor mas bajo\n",
    "Close   :   El valor de cierre\n",
    "Adj Close : El valor de cierre ajustado   \n",
    "Volume  :   El importe del total operado en ese día"
   ]
  },
  {
   "cell_type": "code",
   "execution_count": 5,
   "metadata": {},
   "outputs": [
    {
     "data": {
      "text/plain": [
       "Open         0\n",
       "High         0\n",
       "Low          0\n",
       "Close        0\n",
       "Adj Close    0\n",
       "Volume       0\n",
       "dtype: int64"
      ]
     },
     "execution_count": 5,
     "metadata": {},
     "output_type": "execute_result"
    }
   ],
   "source": [
    "#ok se trata de puros datos númericos, verifiquemos si hay valores nulos. \n",
    "#Lo lógico sería que no\n",
    "spx_data.isna().sum()"
   ]
  },
  {
   "cell_type": "markdown",
   "metadata": {},
   "source": [
    "No tenemos datos nulos, que era lo lógico. Empecemos a revisar la información general del dataset"
   ]
  },
  {
   "cell_type": "code",
   "execution_count": 6,
   "metadata": {},
   "outputs": [
    {
     "data": {
      "text/plain": [
       "(5821, 6)"
      ]
     },
     "execution_count": 6,
     "metadata": {},
     "output_type": "execute_result"
    }
   ],
   "source": [
    "#Tamaño del dataset\n",
    "spx_data.shape"
   ]
  },
  {
   "cell_type": "code",
   "execution_count": 3,
   "metadata": {},
   "outputs": [
    {
     "data": {
      "text/html": [
       "<div>\n",
       "<style scoped>\n",
       "    .dataframe tbody tr th:only-of-type {\n",
       "        vertical-align: middle;\n",
       "    }\n",
       "\n",
       "    .dataframe tbody tr th {\n",
       "        vertical-align: top;\n",
       "    }\n",
       "\n",
       "    .dataframe thead th {\n",
       "        text-align: right;\n",
       "    }\n",
       "</style>\n",
       "<table border=\"1\" class=\"dataframe\">\n",
       "  <thead>\n",
       "    <tr style=\"text-align: right;\">\n",
       "      <th></th>\n",
       "      <th>Open</th>\n",
       "      <th>High</th>\n",
       "      <th>Low</th>\n",
       "      <th>Close</th>\n",
       "      <th>Adj Close</th>\n",
       "      <th>Volume</th>\n",
       "    </tr>\n",
       "  </thead>\n",
       "  <tbody>\n",
       "    <tr>\n",
       "      <th>count</th>\n",
       "      <td>5824.000000</td>\n",
       "      <td>5824.000000</td>\n",
       "      <td>5824.000000</td>\n",
       "      <td>5824.000000</td>\n",
       "      <td>5824.000000</td>\n",
       "      <td>5.824000e+03</td>\n",
       "    </tr>\n",
       "    <tr>\n",
       "      <th>mean</th>\n",
       "      <td>1887.213548</td>\n",
       "      <td>1898.504291</td>\n",
       "      <td>1874.972197</td>\n",
       "      <td>1887.428640</td>\n",
       "      <td>1887.428640</td>\n",
       "      <td>3.302854e+09</td>\n",
       "    </tr>\n",
       "    <tr>\n",
       "      <th>std</th>\n",
       "      <td>977.377354</td>\n",
       "      <td>982.501233</td>\n",
       "      <td>971.786752</td>\n",
       "      <td>977.504549</td>\n",
       "      <td>977.504549</td>\n",
       "      <td>1.522671e+09</td>\n",
       "    </tr>\n",
       "    <tr>\n",
       "      <th>min</th>\n",
       "      <td>679.280029</td>\n",
       "      <td>695.270020</td>\n",
       "      <td>666.789978</td>\n",
       "      <td>676.530029</td>\n",
       "      <td>676.530029</td>\n",
       "      <td>3.560700e+08</td>\n",
       "    </tr>\n",
       "    <tr>\n",
       "      <th>25%</th>\n",
       "      <td>1184.619995</td>\n",
       "      <td>1191.787537</td>\n",
       "      <td>1177.212494</td>\n",
       "      <td>1184.485016</td>\n",
       "      <td>1184.485016</td>\n",
       "      <td>1.986412e+09</td>\n",
       "    </tr>\n",
       "    <tr>\n",
       "      <th>50%</th>\n",
       "      <td>1434.540039</td>\n",
       "      <td>1443.799988</td>\n",
       "      <td>1425.660034</td>\n",
       "      <td>1434.540039</td>\n",
       "      <td>1434.540039</td>\n",
       "      <td>3.409245e+09</td>\n",
       "    </tr>\n",
       "    <tr>\n",
       "      <th>75%</th>\n",
       "      <td>2392.387573</td>\n",
       "      <td>2398.442444</td>\n",
       "      <td>2380.992432</td>\n",
       "      <td>2390.967407</td>\n",
       "      <td>2390.967407</td>\n",
       "      <td>4.159542e+09</td>\n",
       "    </tr>\n",
       "    <tr>\n",
       "      <th>max</th>\n",
       "      <td>4804.509766</td>\n",
       "      <td>4818.620117</td>\n",
       "      <td>4780.040039</td>\n",
       "      <td>4796.560059</td>\n",
       "      <td>4796.560059</td>\n",
       "      <td>1.145623e+10</td>\n",
       "    </tr>\n",
       "  </tbody>\n",
       "</table>\n",
       "</div>"
      ],
      "text/plain": [
       "              Open         High          Low        Close    Adj Close  \\\n",
       "count  5824.000000  5824.000000  5824.000000  5824.000000  5824.000000   \n",
       "mean   1887.213548  1898.504291  1874.972197  1887.428640  1887.428640   \n",
       "std     977.377354   982.501233   971.786752   977.504549   977.504549   \n",
       "min     679.280029   695.270020   666.789978   676.530029   676.530029   \n",
       "25%    1184.619995  1191.787537  1177.212494  1184.485016  1184.485016   \n",
       "50%    1434.540039  1443.799988  1425.660034  1434.540039  1434.540039   \n",
       "75%    2392.387573  2398.442444  2380.992432  2390.967407  2390.967407   \n",
       "max    4804.509766  4818.620117  4780.040039  4796.560059  4796.560059   \n",
       "\n",
       "             Volume  \n",
       "count  5.824000e+03  \n",
       "mean   3.302854e+09  \n",
       "std    1.522671e+09  \n",
       "min    3.560700e+08  \n",
       "25%    1.986412e+09  \n",
       "50%    3.409245e+09  \n",
       "75%    4.159542e+09  \n",
       "max    1.145623e+10  "
      ]
     },
     "execution_count": 3,
     "metadata": {},
     "output_type": "execute_result"
    }
   ],
   "source": [
    "spx_data.describe()"
   ]
  },
  {
   "attachments": {},
   "cell_type": "markdown",
   "metadata": {},
   "source": [
    "    La variable a la que le daremos seguimiento es Adj Close ya que representa el precio con el que cierra operaciones del indicador S&P500 en ese día en específico. Hasta este punto podemos observar hay mucha variedad en los datos pero estos no están muy dispersos, por lo que la media nos puede dar una medida precisa del comportamiento de esa variable."
   ]
  },
  {
   "cell_type": "code",
   "execution_count": 12,
   "metadata": {},
   "outputs": [
    {
     "name": "stderr",
     "output_type": "stream",
     "text": [
      "/tmp/ipykernel_8740/2660146868.py:1: UserWarning: \n",
      "\n",
      "`distplot` is a deprecated function and will be removed in seaborn v0.14.0.\n",
      "\n",
      "Please adapt your code to use either `displot` (a figure-level function with\n",
      "similar flexibility) or `histplot` (an axes-level function for histograms).\n",
      "\n",
      "For a guide to updating your code to use the new functions, please see\n",
      "https://gist.github.com/mwaskom/de44147ed2974457ad6372750bbe5751\n",
      "\n",
      "  sns.distplot(spx_data['Adj Close'])\n"
     ]
    },
    {
     "data": {
      "text/plain": [
       "<Axes: xlabel='Adj Close', ylabel='Density'>"
      ]
     },
     "execution_count": 12,
     "metadata": {},
     "output_type": "execute_result"
    },
    {
     "data": {
      "image/png": "[encoded data removed]",
      "text/plain": [
       "<Figure size 640x480 with 1 Axes>"
      ]
     },
     "metadata": {},
     "output_type": "display_data"
    }
   ],
   "source": [
    "#vamos a ver como están distribuidos los precios\n",
    "sns.distplot(spx_data['Adj Close'])"
   ]
  },
  {
   "attachments": {},
   "cell_type": "markdown",
   "metadata": {},
   "source": [
    "Como se trata de precios distribuidos a lo largo del tiempo, lo que esta gráfica representa es que durante mucho tiempo el precio del índice, estuvo en el rango de los 1,000 ~ 1,500 USD y posteriormente los rangos 2,000; 3,000; 4,000 han sido mas cortos. Esto se muestra mejor en una gráfica de línea de tiempo."
   ]
  },
  {
   "cell_type": "code",
   "execution_count": 9,
   "metadata": {},
   "outputs": [
    {
     "data": {
      "text/plain": [
       "<Figure size 1500x1000 with 0 Axes>"
      ]
     },
     "metadata": {},
     "output_type": "display_data"
    },
    {
     "data": {
      "image/png": "[encoded data removed]",
      "text/plain": [
       "<Figure size 1500x1000 with 1 Axes>"
      ]
     },
     "metadata": {},
     "output_type": "display_data"
    }
   ],
   "source": [
    "#Vmos a observar como se está comportando a lo largo del tiempo\n",
    "lstFechas =['2000-01-01','2002-06-01','2005-01-01','2007-06-01','2010-01-01','2012-06-01','2015-01-01','2017-06-01','2023-02-21']\n",
    "plt.figure(figsize=(15,10))\n",
    "fig, ax = plt.subplots(figsize=(15,10))\n",
    "ax.plot(spx_data.index, spx_data['Adj Close'],label='SPX')\n",
    "ax.set_title('Evolución del precio del S&P500')\n",
    "ax.set_xlabel('Fechas')\n",
    "ax.set_ylabel('Precio')\n",
    "ax.set_xticks(lstFechas)\n",
    "plt.legend()\n",
    "plt.gcf().autofmt_xdate()\n",
    "plt.show()"
   ]
  },
  {
   "attachments": {},
   "cell_type": "markdown",
   "metadata": {},
   "source": [
    "Vamos a hacer grupos de 5 años para observar su distribución"
   ]
  },
  {
   "cell_type": "code",
   "execution_count": 3,
   "metadata": {},
   "outputs": [
    {
     "data": {
      "text/html": [
       "<div>\n",
       "<style scoped>\n",
       "    .dataframe tbody tr th:only-of-type {\n",
       "        vertical-align: middle;\n",
       "    }\n",
       "\n",
       "    .dataframe tbody tr th {\n",
       "        vertical-align: top;\n",
       "    }\n",
       "\n",
       "    .dataframe thead th {\n",
       "        text-align: right;\n",
       "    }\n",
       "</style>\n",
       "<table border=\"1\" class=\"dataframe\">\n",
       "  <thead>\n",
       "    <tr style=\"text-align: right;\">\n",
       "      <th></th>\n",
       "      <th>Open</th>\n",
       "      <th>High</th>\n",
       "      <th>Low</th>\n",
       "      <th>Close</th>\n",
       "      <th>Adj Close</th>\n",
       "      <th>Volume</th>\n",
       "    </tr>\n",
       "    <tr>\n",
       "      <th>Date</th>\n",
       "      <th></th>\n",
       "      <th></th>\n",
       "      <th></th>\n",
       "      <th></th>\n",
       "      <th></th>\n",
       "      <th></th>\n",
       "    </tr>\n",
       "  </thead>\n",
       "  <tbody>\n",
       "    <tr>\n",
       "      <th>2000-01-03</th>\n",
       "      <td>1469.250000</td>\n",
       "      <td>1478.000000</td>\n",
       "      <td>1438.359985</td>\n",
       "      <td>1455.219971</td>\n",
       "      <td>1455.219971</td>\n",
       "      <td>931800000</td>\n",
       "    </tr>\n",
       "    <tr>\n",
       "      <th>2000-01-04</th>\n",
       "      <td>1455.219971</td>\n",
       "      <td>1455.219971</td>\n",
       "      <td>1397.430054</td>\n",
       "      <td>1399.420044</td>\n",
       "      <td>1399.420044</td>\n",
       "      <td>1009000000</td>\n",
       "    </tr>\n",
       "    <tr>\n",
       "      <th>2000-01-05</th>\n",
       "      <td>1399.420044</td>\n",
       "      <td>1413.270020</td>\n",
       "      <td>1377.680054</td>\n",
       "      <td>1402.109985</td>\n",
       "      <td>1402.109985</td>\n",
       "      <td>1085500000</td>\n",
       "    </tr>\n",
       "    <tr>\n",
       "      <th>2000-01-06</th>\n",
       "      <td>1402.109985</td>\n",
       "      <td>1411.900024</td>\n",
       "      <td>1392.099976</td>\n",
       "      <td>1403.449951</td>\n",
       "      <td>1403.449951</td>\n",
       "      <td>1092300000</td>\n",
       "    </tr>\n",
       "    <tr>\n",
       "      <th>2000-01-07</th>\n",
       "      <td>1403.449951</td>\n",
       "      <td>1441.469971</td>\n",
       "      <td>1400.729980</td>\n",
       "      <td>1441.469971</td>\n",
       "      <td>1441.469971</td>\n",
       "      <td>1225200000</td>\n",
       "    </tr>\n",
       "    <tr>\n",
       "      <th>...</th>\n",
       "      <td>...</td>\n",
       "      <td>...</td>\n",
       "      <td>...</td>\n",
       "      <td>...</td>\n",
       "      <td>...</td>\n",
       "      <td>...</td>\n",
       "    </tr>\n",
       "    <tr>\n",
       "      <th>2023-02-17</th>\n",
       "      <td>4077.389893</td>\n",
       "      <td>4081.510010</td>\n",
       "      <td>4047.949951</td>\n",
       "      <td>4079.090088</td>\n",
       "      <td>4079.090088</td>\n",
       "      <td>4045480000</td>\n",
       "    </tr>\n",
       "    <tr>\n",
       "      <th>2023-02-21</th>\n",
       "      <td>4052.350098</td>\n",
       "      <td>4052.350098</td>\n",
       "      <td>3995.189941</td>\n",
       "      <td>3997.340088</td>\n",
       "      <td>3997.340088</td>\n",
       "      <td>4121590000</td>\n",
       "    </tr>\n",
       "    <tr>\n",
       "      <th>2023-02-22 00:00:00</th>\n",
       "      <td>4001.830078</td>\n",
       "      <td>4017.370117</td>\n",
       "      <td>3976.899902</td>\n",
       "      <td>3991.050049</td>\n",
       "      <td>3991.050049</td>\n",
       "      <td>4079320000</td>\n",
       "    </tr>\n",
       "    <tr>\n",
       "      <th>2023-02-23 00:00:00</th>\n",
       "      <td>4018.600098</td>\n",
       "      <td>4028.300049</td>\n",
       "      <td>3969.189941</td>\n",
       "      <td>4012.320068</td>\n",
       "      <td>4012.320068</td>\n",
       "      <td>3952940000</td>\n",
       "    </tr>\n",
       "    <tr>\n",
       "      <th>2023-02-24 00:00:00</th>\n",
       "      <td>3973.239990</td>\n",
       "      <td>3978.250000</td>\n",
       "      <td>3943.080078</td>\n",
       "      <td>3970.040039</td>\n",
       "      <td>3970.040039</td>\n",
       "      <td>3877700000</td>\n",
       "    </tr>\n",
       "  </tbody>\n",
       "</table>\n",
       "<p>5824 rows × 6 columns</p>\n",
       "</div>"
      ],
      "text/plain": [
       "                            Open         High          Low        Close  \\\n",
       "Date                                                                      \n",
       "2000-01-03           1469.250000  1478.000000  1438.359985  1455.219971   \n",
       "2000-01-04           1455.219971  1455.219971  1397.430054  1399.420044   \n",
       "2000-01-05           1399.420044  1413.270020  1377.680054  1402.109985   \n",
       "2000-01-06           1402.109985  1411.900024  1392.099976  1403.449951   \n",
       "2000-01-07           1403.449951  1441.469971  1400.729980  1441.469971   \n",
       "...                          ...          ...          ...          ...   \n",
       "2023-02-17           4077.389893  4081.510010  4047.949951  4079.090088   \n",
       "2023-02-21           4052.350098  4052.350098  3995.189941  3997.340088   \n",
       "2023-02-22 00:00:00  4001.830078  4017.370117  3976.899902  3991.050049   \n",
       "2023-02-23 00:00:00  4018.600098  4028.300049  3969.189941  4012.320068   \n",
       "2023-02-24 00:00:00  3973.239990  3978.250000  3943.080078  3970.040039   \n",
       "\n",
       "                       Adj Close      Volume  \n",
       "Date                                          \n",
       "2000-01-03           1455.219971   931800000  \n",
       "2000-01-04           1399.420044  1009000000  \n",
       "2000-01-05           1402.109985  1085500000  \n",
       "2000-01-06           1403.449951  1092300000  \n",
       "2000-01-07           1441.469971  1225200000  \n",
       "...                          ...         ...  \n",
       "2023-02-17           4079.090088  4045480000  \n",
       "2023-02-21           3997.340088  4121590000  \n",
       "2023-02-22 00:00:00  3991.050049  4079320000  \n",
       "2023-02-23 00:00:00  4012.320068  3952940000  \n",
       "2023-02-24 00:00:00  3970.040039  3877700000  \n",
       "\n",
       "[5824 rows x 6 columns]"
      ]
     },
     "execution_count": 3,
     "metadata": {},
     "output_type": "execute_result"
    }
   ],
   "source": [
    "spx_1 = spx_data.copy()\n",
    "spx_1"
   ]
  },
  {
   "cell_type": "code",
   "execution_count": 4,
   "metadata": {},
   "outputs": [
    {
     "name": "stderr",
     "output_type": "stream",
     "text": [
      "/tmp/ipykernel_8205/4112197274.py:2: SettingWithCopyWarning: \n",
      "A value is trying to be set on a copy of a slice from a DataFrame.\n",
      "Try using .loc[row_indexer,col_indexer] = value instead\n",
      "\n",
      "See the caveats in the documentation: https://pandas.pydata.org/pandas-docs/stable/user_guide/indexing.html#returning-a-view-versus-a-copy\n",
      "  spx_1['ciclo'] = '2000 - 2005'\n",
      "/tmp/ipykernel_8205/4112197274.py:4: SettingWithCopyWarning: \n",
      "A value is trying to be set on a copy of a slice from a DataFrame.\n",
      "Try using .loc[row_indexer,col_indexer] = value instead\n",
      "\n",
      "See the caveats in the documentation: https://pandas.pydata.org/pandas-docs/stable/user_guide/indexing.html#returning-a-view-versus-a-copy\n",
      "  spx_2['ciclo'] = '2006 - 2010'\n",
      "/tmp/ipykernel_8205/4112197274.py:6: SettingWithCopyWarning: \n",
      "A value is trying to be set on a copy of a slice from a DataFrame.\n",
      "Try using .loc[row_indexer,col_indexer] = value instead\n",
      "\n",
      "See the caveats in the documentation: https://pandas.pydata.org/pandas-docs/stable/user_guide/indexing.html#returning-a-view-versus-a-copy\n",
      "  spx_3['ciclo'] = '2011 - 2015'\n",
      "/tmp/ipykernel_8205/4112197274.py:8: SettingWithCopyWarning: \n",
      "A value is trying to be set on a copy of a slice from a DataFrame.\n",
      "Try using .loc[row_indexer,col_indexer] = value instead\n",
      "\n",
      "See the caveats in the documentation: https://pandas.pydata.org/pandas-docs/stable/user_guide/indexing.html#returning-a-view-versus-a-copy\n",
      "  spx_4['ciclo'] = '2016 - 2020'\n",
      "/tmp/ipykernel_8205/4112197274.py:10: SettingWithCopyWarning: \n",
      "A value is trying to be set on a copy of a slice from a DataFrame.\n",
      "Try using .loc[row_indexer,col_indexer] = value instead\n",
      "\n",
      "See the caveats in the documentation: https://pandas.pydata.org/pandas-docs/stable/user_guide/indexing.html#returning-a-view-versus-a-copy\n",
      "  spx_5['ciclo'] = '2021 - 2023'\n"
     ]
    }
   ],
   "source": [
    "\n",
    "spx_1 = spx_data[(spx_data.index >= '2000-01-01') & (spx_data.index <= '2005-12-31')]\n",
    "spx_1['ciclo'] = '2000 - 2005'\n",
    "spx_2 = spx_data[(spx_data.index >= '2006-01-01') & (spx_data.index <= '2010-12-31')]\n",
    "spx_2['ciclo'] = '2006 - 2010'\n",
    "spx_3 = spx_data[(spx_data.index >= '2011-01-01') & (spx_data.index <= '2015-12-31')]\n",
    "spx_3['ciclo'] = '2011 - 2015'\n",
    "spx_4 = spx_data[(spx_data.index >= '2016-01-01') & (spx_data.index <= '2020-12-31')]\n",
    "spx_4['ciclo'] = '2016 - 2020'\n",
    "spx_5 = spx_data[(spx_data.index >= '2021-01-01') & (spx_data.index <= '2023-12-31')]\n",
    "spx_5['ciclo'] = '2021 - 2023'\n",
    "spx_1 = pd.concat([spx_1,spx_2,spx_3,spx_4,spx_5], axis = 0)\n"
   ]
  },
  {
   "cell_type": "code",
   "execution_count": 5,
   "metadata": {},
   "outputs": [
    {
     "data": {
      "text/html": [
       "<div>\n",
       "<style scoped>\n",
       "    .dataframe tbody tr th:only-of-type {\n",
       "        vertical-align: middle;\n",
       "    }\n",
       "\n",
       "    .dataframe tbody tr th {\n",
       "        vertical-align: top;\n",
       "    }\n",
       "\n",
       "    .dataframe thead th {\n",
       "        text-align: right;\n",
       "    }\n",
       "</style>\n",
       "<table border=\"1\" class=\"dataframe\">\n",
       "  <thead>\n",
       "    <tr style=\"text-align: right;\">\n",
       "      <th></th>\n",
       "      <th>Open</th>\n",
       "      <th>High</th>\n",
       "      <th>Low</th>\n",
       "      <th>Close</th>\n",
       "      <th>Adj Close</th>\n",
       "      <th>Volume</th>\n",
       "      <th>ciclo</th>\n",
       "    </tr>\n",
       "    <tr>\n",
       "      <th>Date</th>\n",
       "      <th></th>\n",
       "      <th></th>\n",
       "      <th></th>\n",
       "      <th></th>\n",
       "      <th></th>\n",
       "      <th></th>\n",
       "      <th></th>\n",
       "    </tr>\n",
       "  </thead>\n",
       "  <tbody>\n",
       "    <tr>\n",
       "      <th>2000-01-03</th>\n",
       "      <td>1469.250000</td>\n",
       "      <td>1478.000000</td>\n",
       "      <td>1438.359985</td>\n",
       "      <td>1455.219971</td>\n",
       "      <td>1455.219971</td>\n",
       "      <td>931800000</td>\n",
       "      <td>2000 - 2005</td>\n",
       "    </tr>\n",
       "    <tr>\n",
       "      <th>2000-01-04</th>\n",
       "      <td>1455.219971</td>\n",
       "      <td>1455.219971</td>\n",
       "      <td>1397.430054</td>\n",
       "      <td>1399.420044</td>\n",
       "      <td>1399.420044</td>\n",
       "      <td>1009000000</td>\n",
       "      <td>2000 - 2005</td>\n",
       "    </tr>\n",
       "    <tr>\n",
       "      <th>2000-01-05</th>\n",
       "      <td>1399.420044</td>\n",
       "      <td>1413.270020</td>\n",
       "      <td>1377.680054</td>\n",
       "      <td>1402.109985</td>\n",
       "      <td>1402.109985</td>\n",
       "      <td>1085500000</td>\n",
       "      <td>2000 - 2005</td>\n",
       "    </tr>\n",
       "    <tr>\n",
       "      <th>2000-01-06</th>\n",
       "      <td>1402.109985</td>\n",
       "      <td>1411.900024</td>\n",
       "      <td>1392.099976</td>\n",
       "      <td>1403.449951</td>\n",
       "      <td>1403.449951</td>\n",
       "      <td>1092300000</td>\n",
       "      <td>2000 - 2005</td>\n",
       "    </tr>\n",
       "    <tr>\n",
       "      <th>2000-01-07</th>\n",
       "      <td>1403.449951</td>\n",
       "      <td>1441.469971</td>\n",
       "      <td>1400.729980</td>\n",
       "      <td>1441.469971</td>\n",
       "      <td>1441.469971</td>\n",
       "      <td>1225200000</td>\n",
       "      <td>2000 - 2005</td>\n",
       "    </tr>\n",
       "    <tr>\n",
       "      <th>...</th>\n",
       "      <td>...</td>\n",
       "      <td>...</td>\n",
       "      <td>...</td>\n",
       "      <td>...</td>\n",
       "      <td>...</td>\n",
       "      <td>...</td>\n",
       "      <td>...</td>\n",
       "    </tr>\n",
       "    <tr>\n",
       "      <th>2023-02-17</th>\n",
       "      <td>4077.389893</td>\n",
       "      <td>4081.510010</td>\n",
       "      <td>4047.949951</td>\n",
       "      <td>4079.090088</td>\n",
       "      <td>4079.090088</td>\n",
       "      <td>4045480000</td>\n",
       "      <td>2021 - 2023</td>\n",
       "    </tr>\n",
       "    <tr>\n",
       "      <th>2023-02-21</th>\n",
       "      <td>4052.350098</td>\n",
       "      <td>4052.350098</td>\n",
       "      <td>3995.189941</td>\n",
       "      <td>3997.340088</td>\n",
       "      <td>3997.340088</td>\n",
       "      <td>4121590000</td>\n",
       "      <td>2021 - 2023</td>\n",
       "    </tr>\n",
       "    <tr>\n",
       "      <th>2023-02-22 00:00:00</th>\n",
       "      <td>4001.830078</td>\n",
       "      <td>4017.370117</td>\n",
       "      <td>3976.899902</td>\n",
       "      <td>3991.050049</td>\n",
       "      <td>3991.050049</td>\n",
       "      <td>4079320000</td>\n",
       "      <td>2021 - 2023</td>\n",
       "    </tr>\n",
       "    <tr>\n",
       "      <th>2023-02-23 00:00:00</th>\n",
       "      <td>4018.600098</td>\n",
       "      <td>4028.300049</td>\n",
       "      <td>3969.189941</td>\n",
       "      <td>4012.320068</td>\n",
       "      <td>4012.320068</td>\n",
       "      <td>3952940000</td>\n",
       "      <td>2021 - 2023</td>\n",
       "    </tr>\n",
       "    <tr>\n",
       "      <th>2023-02-24 00:00:00</th>\n",
       "      <td>3973.239990</td>\n",
       "      <td>3978.250000</td>\n",
       "      <td>3943.080078</td>\n",
       "      <td>3970.040039</td>\n",
       "      <td>3970.040039</td>\n",
       "      <td>3877700000</td>\n",
       "      <td>2021 - 2023</td>\n",
       "    </tr>\n",
       "  </tbody>\n",
       "</table>\n",
       "<p>5824 rows × 7 columns</p>\n",
       "</div>"
      ],
      "text/plain": [
       "                            Open         High          Low        Close  \\\n",
       "Date                                                                      \n",
       "2000-01-03           1469.250000  1478.000000  1438.359985  1455.219971   \n",
       "2000-01-04           1455.219971  1455.219971  1397.430054  1399.420044   \n",
       "2000-01-05           1399.420044  1413.270020  1377.680054  1402.109985   \n",
       "2000-01-06           1402.109985  1411.900024  1392.099976  1403.449951   \n",
       "2000-01-07           1403.449951  1441.469971  1400.729980  1441.469971   \n",
       "...                          ...          ...          ...          ...   \n",
       "2023-02-17           4077.389893  4081.510010  4047.949951  4079.090088   \n",
       "2023-02-21           4052.350098  4052.350098  3995.189941  3997.340088   \n",
       "2023-02-22 00:00:00  4001.830078  4017.370117  3976.899902  3991.050049   \n",
       "2023-02-23 00:00:00  4018.600098  4028.300049  3969.189941  4012.320068   \n",
       "2023-02-24 00:00:00  3973.239990  3978.250000  3943.080078  3970.040039   \n",
       "\n",
       "                       Adj Close      Volume        ciclo  \n",
       "Date                                                       \n",
       "2000-01-03           1455.219971   931800000  2000 - 2005  \n",
       "2000-01-04           1399.420044  1009000000  2000 - 2005  \n",
       "2000-01-05           1402.109985  1085500000  2000 - 2005  \n",
       "2000-01-06           1403.449951  1092300000  2000 - 2005  \n",
       "2000-01-07           1441.469971  1225200000  2000 - 2005  \n",
       "...                          ...         ...          ...  \n",
       "2023-02-17           4079.090088  4045480000  2021 - 2023  \n",
       "2023-02-21           3997.340088  4121590000  2021 - 2023  \n",
       "2023-02-22 00:00:00  3991.050049  4079320000  2021 - 2023  \n",
       "2023-02-23 00:00:00  4012.320068  3952940000  2021 - 2023  \n",
       "2023-02-24 00:00:00  3970.040039  3877700000  2021 - 2023  \n",
       "\n",
       "[5824 rows x 7 columns]"
      ]
     },
     "execution_count": 5,
     "metadata": {},
     "output_type": "execute_result"
    }
   ],
   "source": [
    "spx_1"
   ]
  },
  {
   "cell_type": "code",
   "execution_count": 6,
   "metadata": {},
   "outputs": [
    {
     "data": {
      "text/plain": [
       "array(['2000 - 2005', '2006 - 2010', '2011 - 2015', '2016 - 2020',\n",
       "       '2021 - 2023'], dtype=object)"
      ]
     },
     "execution_count": 6,
     "metadata": {},
     "output_type": "execute_result"
    }
   ],
   "source": [
    "spx_1['ciclo'].unique()"
   ]
  },
  {
   "cell_type": "code",
   "execution_count": 7,
   "metadata": {},
   "outputs": [
    {
     "data": {
      "text/plain": [
       "<Axes: xlabel='ciclo', ylabel='Adj Close'>"
      ]
     },
     "execution_count": 7,
     "metadata": {},
     "output_type": "execute_result"
    },
    {
     "data": {
      "image/png": "[encoded data removed]",
      "text/plain": [
       "<Figure size 640x480 with 1 Axes>"
      ]
     },
     "metadata": {},
     "output_type": "display_data"
    }
   ],
   "source": [
    "\n",
    "sns.boxplot(x='ciclo', y='Adj Close' ,data=spx_1)"
   ]
  },
  {
   "attachments": {},
   "cell_type": "markdown",
   "metadata": {},
   "source": [
    "La gráfica muestra la dispersión de los precios del indicador, siendo notorio el incremento desde el año 2016."
   ]
  },
  {
   "attachments": {},
   "cell_type": "markdown",
   "metadata": {},
   "source": [
    "a partir de aquí hay que poner el análisis multivariado, considerando 'Close Adj' y 'Monto'"
   ]
  }
 ],
 "metadata": {
  "kernelspec": {
   "display_name": "Python 3",
   "language": "python",
   "name": "python3"
  },
  "language_info": {
   "codemirror_mode": {
    "name": "ipython",
    "version": 3
   },
   "file_extension": ".py",
   "mimetype": "text/x-python",
   "name": "python",
   "nbconvert_exporter": "python",
   "pygments_lexer": "ipython3",
   "version": "3.10.10"
  },
  "vscode": {
   "interpreter": {
    "hash": "c60e90d3317af3fae2ea7c3a32dbe8dfaf52df016f767bf9295f24a798c24be0"
   }
  }
 },
 "nbformat": 4,
 "nbformat_minor": 2
}
